{
 "cells": [
  {
   "cell_type": "markdown",
   "metadata": {},
   "source": [
    "# Quelles marges de manœuvres macroéconomiques pour revaloriser le\n",
    "\n",
    "travail ?\n",
    "\n",
    "Xavier Timbeau [![](data:image/png;base64,iVBORw0KGgoAAAANSUhEUgAAABAAAAAQCAYAAAAf8/9hAAAAGXRFWHRTb2Z0d2FyZQBBZG9iZSBJbWFnZVJlYWR5ccllPAAAA2ZpVFh0WE1MOmNvbS5hZG9iZS54bXAAAAAAADw/eHBhY2tldCBiZWdpbj0i77u/IiBpZD0iVzVNME1wQ2VoaUh6cmVTek5UY3prYzlkIj8+IDx4OnhtcG1ldGEgeG1sbnM6eD0iYWRvYmU6bnM6bWV0YS8iIHg6eG1wdGs9IkFkb2JlIFhNUCBDb3JlIDUuMC1jMDYwIDYxLjEzNDc3NywgMjAxMC8wMi8xMi0xNzozMjowMCAgICAgICAgIj4gPHJkZjpSREYgeG1sbnM6cmRmPSJodHRwOi8vd3d3LnczLm9yZy8xOTk5LzAyLzIyLXJkZi1zeW50YXgtbnMjIj4gPHJkZjpEZXNjcmlwdGlvbiByZGY6YWJvdXQ9IiIgeG1sbnM6eG1wTU09Imh0dHA6Ly9ucy5hZG9iZS5jb20veGFwLzEuMC9tbS8iIHhtbG5zOnN0UmVmPSJodHRwOi8vbnMuYWRvYmUuY29tL3hhcC8xLjAvc1R5cGUvUmVzb3VyY2VSZWYjIiB4bWxuczp4bXA9Imh0dHA6Ly9ucy5hZG9iZS5jb20veGFwLzEuMC8iIHhtcE1NOk9yaWdpbmFsRG9jdW1lbnRJRD0ieG1wLmRpZDo1N0NEMjA4MDI1MjA2ODExOTk0QzkzNTEzRjZEQTg1NyIgeG1wTU06RG9jdW1lbnRJRD0ieG1wLmRpZDozM0NDOEJGNEZGNTcxMUUxODdBOEVCODg2RjdCQ0QwOSIgeG1wTU06SW5zdGFuY2VJRD0ieG1wLmlpZDozM0NDOEJGM0ZGNTcxMUUxODdBOEVCODg2RjdCQ0QwOSIgeG1wOkNyZWF0b3JUb29sPSJBZG9iZSBQaG90b3Nob3AgQ1M1IE1hY2ludG9zaCI+IDx4bXBNTTpEZXJpdmVkRnJvbSBzdFJlZjppbnN0YW5jZUlEPSJ4bXAuaWlkOkZDN0YxMTc0MDcyMDY4MTE5NUZFRDc5MUM2MUUwNEREIiBzdFJlZjpkb2N1bWVudElEPSJ4bXAuZGlkOjU3Q0QyMDgwMjUyMDY4MTE5OTRDOTM1MTNGNkRBODU3Ii8+IDwvcmRmOkRlc2NyaXB0aW9uPiA8L3JkZjpSREY+IDwveDp4bXBtZXRhPiA8P3hwYWNrZXQgZW5kPSJyIj8+84NovQAAAR1JREFUeNpiZEADy85ZJgCpeCB2QJM6AMQLo4yOL0AWZETSqACk1gOxAQN+cAGIA4EGPQBxmJA0nwdpjjQ8xqArmczw5tMHXAaALDgP1QMxAGqzAAPxQACqh4ER6uf5MBlkm0X4EGayMfMw/Pr7Bd2gRBZogMFBrv01hisv5jLsv9nLAPIOMnjy8RDDyYctyAbFM2EJbRQw+aAWw/LzVgx7b+cwCHKqMhjJFCBLOzAR6+lXX84xnHjYyqAo5IUizkRCwIENQQckGSDGY4TVgAPEaraQr2a4/24bSuoExcJCfAEJihXkWDj3ZAKy9EJGaEo8T0QSxkjSwORsCAuDQCD+QILmD1A9kECEZgxDaEZhICIzGcIyEyOl2RkgwAAhkmC+eAm0TAAAAABJRU5ErkJggg==)](https://orcid.org/0000-0002-6198-5953) ([OFCE, Sciences Po Paris](http://www.ofce.fr))\n",
    "\n",
    "3756 mots."
   ],
   "id": "e959cd85-2bf3-4002-896f-28b5ea31167e"
  },
  {
   "cell_type": "code",
   "execution_count": null,
   "metadata": {},
   "outputs": [
    {
     "output_type": "stream",
     "name": "stderr",
     "text": [
      "── Attaching core tidyverse packages ──────────────────────── tidyverse 2.0.0 ──\n",
      "✔ dplyr     1.1.4     ✔ readr     2.1.5\n",
      "✔ forcats   1.0.0     ✔ stringr   1.5.1\n",
      "✔ ggplot2   3.5.1     ✔ tibble    3.2.1\n",
      "✔ lubridate 1.9.4     ✔ tidyr     1.3.1\n",
      "✔ purrr     1.0.2     \n",
      "── Conflicts ────────────────────────────────────────── tidyverse_conflicts() ──\n",
      "✖ dplyr::filter()   masks stats::filter()\n",
      "✖ dplyr::lag()      masks stats::lag()\n",
      "✖ readr::tokenize() masks koRpus::tokenize()\n",
      "ℹ Use the conflicted package (<http://conflicted.r-lib.org/>) to force all conflicts to become errors\n",
      "\n",
      "Attachement du package : 'scales'\n",
      "\n",
      "\n",
      "L'objet suivant est masqué depuis 'package:purrr':\n",
      "\n",
      "    discard\n",
      "\n",
      "\n",
      "L'objet suivant est masqué depuis 'package:readr':\n",
      "\n",
      "    col_factor\n",
      "\n",
      "\n",
      "qs 0.27.2. Announcement: https://github.com/qsbase/qs/issues/103"
     ]
    }
   ],
   "source": [
    "ofce::init_qmd()"
   ],
   "id": "3a0688c5-a66c-45bd-b5d6-59633b6333ea"
  },
  {
   "cell_type": "markdown",
   "metadata": {},
   "source": [
    "## 1 Revaloriser le travail\n",
    "\n",
    "L’ensemble de ce numéro d’Économie Politique consacré au travail pointe dans une direction sans équivoque. Le travail est au cœur du pacte social ; il est une nécessité économique pour une immense majorité ; il est la condition pour l’émancipation des individus. Le travail réalise également les promesses floues du mérite et cristallise en conséquence les perceptions des inégalités. Il condense également les attentes et les perceptions de la situation économique, tant le travail et la position que chacun occupe dans la société est le le modèle dominant de la rémunération. A part quelques rares privilégiés, dont les ultra riches sont peut être la manifestation la plus visible, chacun vit de son travail, présent ou passé et est donc renvoyé à une condition commune et partagée.\n",
    "\n",
    "En France, depuis 2018, les salaires réels déclinent (<a href=\"#fig-salaires\" class=\"quarto-xref\">graphique 1</a>) depuis plusieurs trimestres ; c’est également le cas aux Pays Bas ou en Allemagne ; ils stagnent depuis longtemps en Espagne et continuent de se dégrader encore en Italie. Partout en Europe la valeur du travail est à la peine, avec les conséquences sociales et poltiques que l’on peut imaginer sur les sociétés. La hausse récente de l’inflation (2022-2024), consécutive au choc de prix de l’énergie provoqué par l’invasion de l’Ukraine par la Russie impose ici sa loi. En Europe, la hausse des prix du gaz et de l’électricité ont coûté presque 3 points de PIB, en partie absorbés par les déficits publics."
   ],
   "id": "ba657e26-f7fe-4796-9e01-ea1b531ba49a"
  },
  {
   "cell_type": "code",
   "execution_count": null,
   "metadata": {},
   "outputs": [
    {
     "output_type": "display_data",
     "metadata": {},
     "data": {}
    }
   ],
   "source": [
    "salaires <- source_data('salaires.r')\n",
    "\n",
    "ggplot(salaires |> filter(time >= \"1995-01-01\")) +\n",
    "  aes(x=time, y=wr, col = geo) +\n",
    "  geom_line(data = ~.x |> rename(GEO = geo) , aes(group=GEO), col = \"gray75\", linewidth = 0.25) +\n",
    "  geom_ribbon(aes(ymin = wbr, ymax = wr, fill = geo, group = geo),\n",
    "              color = \"transparent\", show.legend = FALSE, alpha = 0.1) +\n",
    "  geom_line(show.legend=FALSE) +\n",
    "  facet_wrap(vars(geo), ncol = 3, labeller = lbl) +\n",
    "  scale_ofce_date() +\n",
    "  ylab(\"Salaire annuel réel en k€\") +\n",
    "  scale_y_log10(breaks = c(10, 20, 30, 40, 50, 50, 60)) +\n",
    "  scale_color_pays(format = \"eurostat\") +\n",
    "  theme_ofce() +\n",
    "  ofce_caption(\n",
    "    wrap = 0,\n",
    "    source = \"Eurostat, comptes nationaux trimestriels (namq_10_a10),\n",
    "    calcul de l'auteur, le code est disponible à github.com/xtimbeau/travail\",\n",
    "    champ = \"Toute l'économie\",,\n",
    "    note = \"Le salaire est défini comme la masse salariale divisée par l'emploi salarié, sur les 4 derniers trimestres. Le ruban coloré indique les cotisations sociales à la charge de l'employeur (selon la définition du SNA).\",\n",
    "    ofce = FALSE)"
   ],
   "id": "cell-fig-salaires"
  },
  {
   "cell_type": "markdown",
   "metadata": {},
   "source": [
    "Mais la hausse des prix de l’énergie s’ajoute à une situation plus ancienne et dont le diagnostic macroéconomique est fait depuis longtemps, la crise des dettes souveraines en 2012 ayant amorcé le décrochage européen par rapport aux Etats-Unis du fait de la combinaison de politiques budgétaires et monétaires trop restrictives, limitant la demande interne européenne dans un monde de plus en plus protectionniste (voir notamment les rapport iAGS de 2013 à 2019[1] ou les analyses du FMI et de la commission Européenne sur les multiplicateurs budgétaires en temps de crise). Le très récent rapport Draghi ([Draghi, 2024](#ref-draghi2024)) en fait une synthèse consensuelle : d’une part l’accumulation d’une position nette européenne très positive expose les détenteurs de patrimoine européens à des effets de change adverse et les oblige à accepter des rendements faibles, de l’autre la faible demande européenne pèse à la fois sur le court-terme (un multiplicateur keynésien traditionnel) et sur le long terme. D’un côté, les Etats-Unis d’Amérique combinent déficit public, déficit extérieur et un différentiel entre le taux sur leur dette publique et le rendement du capital productif investit sur leur territoire ou sous leur contrôle qui sécurise la fuite en avant de leur modèle. L’Europe, de l’autre côté, se noie dans une dynamique délétère, au prétexte d’une soutenabilité mal pensée. L’abandon par Trump de l’atténuation du changement climatique qui prolonge des stratégies opposées accroît encore le fossé entre Europe et Etats-Unis en termes de prix de l’énergie (Epaulard *et al.* ([2024](#ref-epaulard2024))).\n",
    "\n",
    "Les marges de manœuvre en Europe dépendent d’abord de la stratégie macroéconomique de l’Europe : sortir d’un carcan idéologique et se positionner pragmatiquement dans la nouvelle donne mondiale. L’Europe a la taille critique pour traiter avec ses marchés financiers. Son épargne abondante lui autorise de grandes libertés et rien ne l’oblige à financer l’expansion Américaine, qui s’affranchit de toutes limites à commencer par celles de la Planète. L’Europe doit combiner une relance qui soutient la demande interne mais également qui stimule son tissu productif. La fin de la globalisation plus ou moins régulée demande une autre approche que la recherche de la compétitivité à tout prix. Et tant que ce cadre de pensée n’aura pas basculé, l’Europe restera contrainte à jouer le jeu de la concurrence entre les Etats membres produisant stagnation et appauvrissement.\n",
    "\n",
    "La comparaison qui suit de la situation française avec des pays du Nord comme du Sud de l’Europe est édifiante et se résume ainsi : les mutations engagées depuis un demi siècle ont engendré un nouveau monde, flexible et faisant porter la charge de l’ajustement macroéconomique d’abord sur le travail. Pour autant, ce n’est pas, du moins en France, du côté des inégalités que l’on doit aller chercher la solution. Et l’examen de la situation des entreprises ne donne pas non plus beaucoup de clefs, si ce n’est l’urgence de mettre fin à la concurrence fiscale qui mine le tissu productif européen. La macroéconomie européenne met ainsi sous pression les salariés, du haut comme du bas de l’échelle, les entreprises et les finances publiques des Etats membres, à part quelques uns qui tirent opportunément et sans doute temporairement leur épingle du jeu.\n",
    "\n",
    "## 2 Le nouveau monde\n",
    "\n",
    "La flexibilisation des marchés du travail est à l’ordre du jour depuis les années 1980 ([Lima et Tuchszirer, 2022](#ref-lima2022)). Elle a été brutale dans certains pays, plus progressive dans d’autres, en particulier en France. Néanmoins, et combinée à la perte d’influence des syndicats et la diminution du rôle des partenaires sociaux, lorsqu’on se retourne sur les 50 dernières années, on ne peut manquer d’être frappé par l’ampleur des changements. Le <a href=\"#tbl-chomage\" class=\"quarto-xref\">tableau 1</a> donne quelques indicateurs choisis pour 6 pays européens pour la période 1995-2023. Quelques faits résument les évolutions (une analyse plus détaillée est faite par Askenazy *et al.* ([2019](#ref-askenazy2019))) :\n",
    "\n",
    "-   le chômage (au sens du BIT, des jeunes comme de l’ensemble de population en âge de travailler) a baissé dans les 6 pays, en moyenne sur presque 30 ans, bien qu’en France la baisse soit plutôt faible. Dans la plupart des pays européens, y compris la France, le chômage de masse des années 1980 a été partiellement ou complètement résorbé. Le chômage des jeunes, mesuré ici par rapport à la population de même âge et non la population active, a baissé dans 5 pays, l’exception étant la France. En France et aux Pays-Bas, la part des jeunes au chômage est supérieure à la part du reste de la population en âge de travailler.\n",
    "\n",
    "-   La rotation sur le marché du travail, ici quantifiée approximativement par la part des salariés en emploi depuis moins d’un an dans le poste qu’ils occupent, s’est accrue, sauf en Espagne, pays dans lequel la très forte baisse du chômage depuis 2012 peut expliquer cette particularité. Elle est élevée en France, bien que moins qu’au Pays-Bas ou en Espagne.\n",
    "\n",
    "-   Sans doute en conséquence d’une pression à la baisse sur les salaires et d’une moindre protection des salariés, la part des individus occupant un deuxième emploi a augmenté dans 5 pays (l’exception est l’Italie), une réponse assez déroutante à la crise de rémunération d’autant que les protections de l’emploi se perdent dans la multiplication des employeurs. Aux Pays-Bas, où le temps partiel est très développé, presque 10% des employés cumulent plusieurs emplois.\n",
    "\n",
    "Ces éléments, très partiels, pourraient être complétés par l’analyse systématique des évolutions suivant le genre, l’âge ou encore le diplôme. Si les statistiques étaient disponibles, on pourrait également comparer les décennies 1970 ou 1980 à la décennie 2020. Cela confirmerait sans doute un changement profond dans la relation de ce qui vivent de leur travail face à leur employeur.\n",
    "\n",
    "[1] <https://www.ofce.sciences-po.fr/recherche/iags.php>"
   ],
   "id": "3abaec08-ce70-47e9-8159-80a4a884e595"
  },
  {
   "cell_type": "code",
   "execution_count": null,
   "metadata": {},
   "outputs": [],
   "source": [
    "sum <- source_data(\"precarite.r\")$sum  |> \n",
    "  mutate(c = case_when(\n",
    "     op == \"last\" ~ str_c(round(v,1), \"%\"),\n",
    "     op == \"min\" ~ str_c(round(v,1), \"%<br>(\", year(date), \")\"),\n",
    "     op == \"max\" ~ str_c(round(v,1), \"%<br> (\", year(date), \")\"),\n",
    "     op == \"dv\" ~ str_c(round(v,2), \"%\") ) ) |>\n",
    "  pivot_wider(id_cols = c(age, what, op), names_from = geo, values_from = c) |> \n",
    "  filter(op %in% c(\"dv\",\"last\")) |> \n",
    "  mutate(\n",
    "    label = case_when(\n",
    "      what == \"3mcontract\" ~ \"Part de la population en âge de travailler en contrat de moins de 3 mois\",\n",
    "      what == \"chômage\" & age == \"Y1524\" ~ \"Chômeurs de 15 à 24 ans en % de la population des jeunes\",\n",
    "      what == \"chômage\" & age == \"Y2064\" ~ \"Chômeurs en % de la population en âge de travailler\",\n",
    "      what == \"second job\" ~ \"Part de la population en âge de travailler occupant deux emplois\",\n",
    "      what == \"newjob\" ~ \"Part de la population en âge de travailler en poste depuis moins d'un an (rotation)\"),\n",
    "    op = case_match(op,\n",
    "                    \"last\" ~ \"En 2023\",\n",
    "                    \"min\" ~ \"Le plus bas entre 1995 et 2023\",\n",
    "                    \"max\" ~ \"Le plus haut entre 1995 et 2023\",\n",
    "                    \"dv\" ~ \"Evolution moyenne annuelle entre 1995 et 2023\")) |> \n",
    "  select(-age, -what) \n",
    "\n",
    "sum |> \n",
    "  group_by(label) |> \n",
    "  gt() |> \n",
    "  cols_label_with(fn = lbl) |> \n",
    "  cols_align(\"center\", -c(label, op)) |> \n",
    "  fmt_markdown() |> \n",
    "  tab_style(style = cell_text(weight = \"bold\"),\n",
    "            locations = cells_body(columns = FR)) |> \n",
    "  cols_label(op = \"\", label = \"\") |>\n",
    "  tab_style(style = cell_text(weight = \"bold\"),\n",
    "            locations = cells_row_groups()) |> \n",
    "  tab_options(table.font.size = 11)"
   ],
   "id": "f6503e30-b1db-47d7-a451-604e40e4c021"
  },
  {
   "cell_type": "markdown",
   "metadata": {},
   "source": [
    "Le <a href=\"#tbl-earn\" class=\"quarto-xref\">tableau 2</a> complète l’analyse par l’examen de la structure des rémunérations pour les salariés. Il est difficile de faire un portrait détaillé de la situation des non salariés bien que de nombreuses évolutions récentes – le statut d’autoentrepreneur en France ou ses équivalent ailleurs et les plateformes – en font un élément aux conséquences macroéconomiques importantes, comme il sera montré dans la partie sur le partage de la valeur ajoutée.\n",
    "\n",
    "Au sein de l’Union Européenne, La France se situe dans une position basse en terme de rémunération brute globale, pour la moyenne des salariés à temps complet et à temps partiel. La différence est notable avec la Belgique, ce qui traduit, entre autres, une structure productive spécifique et une productivité plus élevée en Belgique. Comparé à l’Allemagne, l’Italie ou les Pays-Bas, la France affiche une rémunération proche en moyenne, ce qui relativise toutes les comparaisons de la productivité que l’on peut faire entre ces pays."
   ],
   "id": "e67419d6-52c0-4855-9f22-3805b262f6e6"
  },
  {
   "cell_type": "code",
   "execution_count": null,
   "metadata": {},
   "outputs": [],
   "source": [
    "earn <- source_data(\"earn.r\")\n",
    "\n",
    "earn |>\n",
    "  select(label, BE, DE,  IT, NL, FR,  ES) |>\n",
    "  gt() |>\n",
    "  fmt_percent(columns = c(BE, DE, ES, FR, NL, IT), rows = !(label |> str_detect(\"référence\")),\n",
    "              decimals = 0, dec_mark = \",\", sep_mark = \" \") |>\n",
    "  fmt_number(columns = c(BE, DE, ES, FR, NL, IT), rows = label |> str_detect(\"référence\"),\n",
    "             decimals = 0, dec_mark = \",\", sep_mark = \" \", pattern = \"{x}€\") |>\n",
    "  opt_table_lines(\"none\") |>\n",
    "  tab_style(cell_borders(sides = \"bottom\", color = \"grey\", weight = px(1)),\n",
    "            locations = cells_body(rows = c(1, 3, 5, 7, 9, 11, 13) ) ) |>\n",
    "  tab_style(cell_borders(sides = \"bottom\", color = \"black\", weight = px(1)),\n",
    "            locations = cells_body(rows = c(15) ) ) |>\n",
    "  tab_style(cell_borders(sides = c(\"top\", \"bottom\"), color = \"black\", weight = px(1)),\n",
    "            locations = cells_column_labels( ) ) |> \n",
    "  cols_label(label = \"\") |>\n",
    "  cols_label_with(\n",
    "    columns = -label, ~countrycode::countrycode(.x, \"eurostat\", \"country.name.fr\")) |> \n",
    "  tab_options(table.font.size = 11) |> \n",
    "  sub_missing() |>\n",
    "  tab_footnote(\"Salaire annuel brut, temps partiel et complet, relatif au salaire annuel brut médian tous ages, toutes qualifications, femmes et hommes.\",\n",
    "                cells_body(columns = label, rows = !str_detect(label, \"référence\"))) |>\n",
    "  tab_source_note(md(\"*Lecture* : Le salaire médian brut (i.e. y compris les cotisations sociales à la charge du salarié),\n",
    "  des salariés à temps partiel comme à temps plein, incluant le 13^e^ mois\n",
    "  et autres primes ou bonus est en France de 26 768 euros (soit un salarie mensuel moyen de 2 231 euros).\n",
    "  La rémunération moyenne d'un homme (à temps plein ou partiel) est de 119% le salaire médian contre 79% pour une femme (soit un ratio homme femme de 1,51)\n",
    "  en Allemagne, dont une partie s'explique par une prévalence du temps partiel plus forte chez les femmes allemandes (69%) que chez les hommes (24%). Le ratio de rémunération entre un *manager*  (isco08 OC 1)\n",
    "  et un travailleur manuel peu qualifié (OC 9) est de 7,4 (229%/31%) aux Pays Bas contre 3,7 en France.\n",
    "  La rémunération des moins de 30 ans est en moyenne inférieure de 28% au salariue médian en Italie.  \n",
    "  <br>\n",
    "  *Source* : Eurostat, Structure of earnings survey - annual earnings (doi.org/10.2908/EARN_SES_ANNUAL), version du 19 décembre 2024, téléchargé le 15 janvier 2025, année 2022, calculs de l'auteur.\"))"
   ],
   "id": "f749a75e-dee1-4953-af03-c6268b4b264e"
  },
  {
   "cell_type": "markdown",
   "metadata": {},
   "source": [
    "Ainsi, le temps partiel des femmes est largement plus développé aux pays-Bas qu’en France (en France, femmes et hommes ont le taux de temps partiel le plus bas des 6 pays). La réduction du temps de travail au Pays-Bas passe donc par le temps partiel alors qu’elle est plus collective en France (il n’empêche que les femmes qui participent au marché du travail sont presque 2 fois plus à temps partiel que les hommes). Le très fort développement du temps partiel au Pays-Bas induit des inégalités de rémunération importantes, entre les femmes et les hommes (37% de moins pour les femmes aux Pays-Bas contre 15% en France) mais l’écart de rémunération est plus faible en Italie ou en Belgique, ce qui indique que le temps partiel n’est pas le seul facteur. Le temps partiel, massivement choisi et non subit, aux Pays-Bas ne se traduit pas uniquement par une inégalité majeure entre femmes et hommes mais également entre salariés peu qualifiés et *managers*. L’effet de l’âge est plutôt atténué en France par rapport aux autres pays (du moins ceux pour lesquels les données sont disponibles).\n",
    "\n",
    "La France apparaît comme un pays où les inégalités salariales sont plus contenues qu’ailleurs. Les Pays-Bas affichent une forte inégalité (le ratio interdécile est de 15 contre 6 en France). Ces éléments suggèrent que les marges en France sont plus faibles que dans les autres pays. Aligner la rémunération et le temps de travail des femmes sur ceux des hommes n’est pas un politique simple, mais ne résoudrait pas pour autant la crise des rémunérations comme le montre l’analyse du partage de la valeur ajoutée plus loin.\n",
    "\n",
    "Le vieillissement de la population rend difficile également le partage de la charge entre vie active/retraite. Dans la plupart des pays, le vieillissement continuera de peser dans le futur avec la hausse du ratio entre le nombre de dépendants et le nombre d’actifs (en équivalent à temps plein) (<a href=\"#fig-depend\" class=\"quarto-xref\">graphique 2</a>). La France n’échappe pas à cette logique. L’égalisation des taux d’activité entre femme et homme, même s’il réduit le ratio de dépendance ne représente pas un levier majeur en France (contrairement à l’Italie)."
   ],
   "id": "4f28e5e8-5c22-4b03-9d69-52ffcc8d732c"
  },
  {
   "cell_type": "code",
   "execution_count": null,
   "metadata": {},
   "outputs": [
    {
     "output_type": "display_data",
     "metadata": {},
     "data": {}
    }
   ],
   "source": [
    "dep <- source_data(\"dependants.r\")\n",
    "\n",
    "ggplot(dep |> filter(time<='2050-01-01')) +\n",
    "  geom_line(aes(x=time, y=depse, color = geo), show.legend = FALSE) +\n",
    "  geom_ribbon(aes(x=time, ymin=depse.alt, ymax = depse, fill = geo), color=\"transparent\", alpha = 0.2, show.legend = FALSE) +\n",
    "  geom_line(aes(x=time, y=dep, color = geo), linetype=\"dashed\", show.legend = FALSE) +\n",
    "  theme_ofce(marquee = TRUE) +\n",
    "  facet_wrap(vars(geo), ncol = 3, labeller = lbl) +\n",
    "  scale_color_pays(format = \"eurostat\") +\n",
    "  ofce_caption(\n",
    "    source = \"Eurostat demo_pjan pour la population, proj_23np pour les projections de population (scénario baseline), lfsi_emp_a pour l'emploi par age et sexe. Code disponible à github.com/xtimbeau/travail.\",\n",
    "    lecture = \"Les réformes récentes de recul de l'âge de départ à la retraite ont réduit dans certains pays le ratio de dépendance, et le scénario fait l'hypothèse de taux d'actiuvité par âge figés à leur niveau de 2023. Les graphiques indiquent donc son évolution sous l'influence de la démographie seule.\",\n",
    "    note = \"Le ratio de dépendance est le ratio entre les inactifs ou chômmeurs, de 0 à 100 ans rapporté aux actifs de 15 à 64 ans en équivalent temps plein. Le trait pointillé indique le ratio de dépendance si le taux d'emploi des femmes est égal à celui des hommes.\",\n",
    "    ofce = FALSE)"
   ],
   "id": "cell-fig-depend"
  },
  {
   "cell_type": "markdown",
   "metadata": {},
   "source": [
    "## 3 Rémunération du travail et du capital\n",
    "\n",
    "Le <a href=\"#fig-sal\" class=\"quarto-xref\">graphique 3</a> retrace l’évolution de la part des salaires dans la valeur ajoutée. Les choix méthodologiques sont indiqués en notes du graphique et les codes, accessibles à `github.com/xtimbeau/travail`, permettent de répliquer les résultats. Néanmoins quelques choix méritent d’être explicités, d’(autant qu’ils sont différents de ceux du rapport Cotis (Cotis ([2009](#ref-cotis2009)), voir aussi Askenazy, Cette et Sylvain ([2011](#ref-askenazy2011))) : on calcule ici la part des salaires dans la valeur ajoutée nette de la consommation de capital fixe. Ceci permet de prendre en compte la part du capital « consommé » dans le processus de production comme si c’était une consommation intermédiaire et cela évite d’affecter aux revenus du capital un flux qui ne rémunère personne.\n",
    "\n",
    "La deuxième correction importante est celle de la prise en compte des non salariés dans le partage de la valeur ajoutée. Le revenu des non salariés est généralement constitué de l’excédent d’exploitation et lorsque le non salarié opère dans une structure juridique simplifiée, ce revenu est comptabilisé dans le revenu des ménages (revenu mixte). Il doit être traité comme un quasi-salaire et non une rémunération du capital, d’autant qu’il est souvent soumis à cotisations sociales. On affecte ainsi aux non salariés le salaire moyen des salariés de la même branche. Cette correction est importante à la fois parce que la part des non salariés est importante (10 % de l’emploi en France), qu’elle est très hétérogène suivant les branches (50% dans la branche Agriculture en France) et les pays (37% en Italie contre 19% en France dans la branche Construction en 2023), ou dans le temps (plus 2 points en France dans la construction entre 1995 et 2023).\n",
    "\n",
    "Enfin, la branche services immobiliers (branche L dans la NACE rev. 2) a été exclue, parce que cette branche répertorie les activités de service résidentiel (les loyers effectifs et imputés pour l’habitation) et que la notion de travail y est difficile à comparer avec les autres branches."
   ],
   "id": "21fdf86f-0f96-4fbe-b67f-c97fcbff61c2"
  },
  {
   "cell_type": "code",
   "execution_count": null,
   "metadata": {},
   "outputs": [
    {
     "output_type": "display_data",
     "metadata": {},
     "data": {}
    }
   ],
   "source": [
    "naa <- source_data(\"va.r\")$naa\n",
    "\n",
    "ggplot(naa) +\n",
    "  aes(x=time, y=psal, col = geo) +\n",
    "  geom_line(data = ~.x |> rename(GEO = geo) , aes(group=GEO), col = \"gray75\", linewidth = 0.25) +\n",
    "  geom_ribbon(aes(ymin = psal2, ymax = psal, fill = geo, group = geo),\n",
    "              color = \"transparent\", show.legend = FALSE, alpha = 0.1) +\n",
    "  geom_line(aes(y = psal + (ip+is)/van, color = geo, group = geo),\n",
    "              show.legend = FALSE, linetype = \"dotted\") +\n",
    "  geom_line(show.legend=FALSE) +\n",
    "  facet_wrap(vars(geo), ncol = 3, labeller = lbl) +\n",
    "  scale_ofce_date() +\n",
    "  scale_y_continuous(labels = scales::label_percent(1), limits = c(NA, 1)) +\n",
    "  scale_color_pays(format = \"eurostat\") +\n",
    "  theme_ofce(marquee = TRUE) +\n",
    "  ofce_caption(\n",
    "    wrap = 0,\n",
    "    source = \"Eurostat, comptes nationaux annuels de branche (nama_10_a64 et nama_10_a64_e),\n",
    " comptes nationaux trimestriels (namq_10_a10) pour l'année 2024 (jusqu'au T3),\n",
    " comptes nationaux par secteurs institutionels (nasa_10_nf_tr) pour l'impôt sur les sociétés (D51), téléchargés le 15 janvier 2025,\n",
    " calcul de l'auteur. Code disponible à github.com/xtimbeau/travail.\",\n",
    "    champ = \"Branches marchandes hors services immobiliers (L dans la NACE r2)\",\n",
    "    lecture = \"La part des salaires dans la valeur ajoutée brute en France (D1/B1G) en 2023 est de 73,5%.  \n",
    " la ligne pointillée indique la somme de l'impôt des sociétés et des impôts de production nets des subventions.\",\n",
    "    note = \"La part des salaires (corrigé de la non salarisation)\n",
    " dans la valeur ajoutée nette atteint 90% en France en 2023 ((D1*(1+ns/s)/(B1G-P51C)).\n",
    "La partie colorée correspond à la correction pour la non-salarisation.\n",
    " La non salarisation est corrigée en affectant par branche un salaire aux non salariés égal au salaire moyen des salariés de la branche.   \n",
    " L'année 2024 est estimée à partir des comptes trimestriels.\",\n",
    "    ofce = FALSE)"
   ],
   "id": "cell-fig-sal"
  },
  {
   "cell_type": "markdown",
   "metadata": {},
   "source": [
    "Le <a href=\"#fig-sal\" class=\"quarto-xref\">graphique 3</a> indique des parts des salaires dans la valeur ajoutée nette à des niveaux comparables – dans un intervalle entre entre les 6 pays européens qui va de 91% à 77,5%. Elle est la plus élevée en 2024 en France et en Belgique, avec une croissance pour 3 des pays considérés sur la période, en France, en Espagne, en Italie. La correction de la non-salarisation est indiquée par le ruban coloré sur chaque graphique. Elle est très importante en Italie et en Belgique et croissante en France. L’hypothèse d’un salaire équivalent des non salariés et des salariés est ici importante et un travail plus fin pourrait permettre d’améliorer cette hypothèse importante.\n",
    "\n",
    "Dans les 6 pays, la part des salaires dans la valeur ajoutée a atteint un pic en 2020, au moment de l’épidémie de COVID et des mesures de soutien au pouvoir d’achat communes à beaucoup de pays européens. Dans 5 des 6 pays, l’épisode d’inflation à partir de 2022 a induit une fort recul de la part des salaires dans la valeur ajoutée. Ce n’est pas le cas en France, celle-ci ayant été particulièrement stable entre 2020 et 2024. Ainsi, malgré une indexation partielle, les salaires se sont maintenus, mais le coût des consommations intermédiaires a réduit la valeur ajoutée nette et la part des salaires est restée constante. Il est à noter également que la France est le seul pays à avoir publié ses comptes nationaux dans la version 2020, avec des révisions importantes par rapport au SNA 2014.\n",
    "\n",
    "On peut tirer deux conclusions importantes de ces éléments. Premièrement, la part des salaires dans la valeur ajoutée nette fluctue peu et ce malgré des chocs économiques majeurs. C’est la conséquence d’un ajustement plus flexible des marchés du travail et de la désindexation d’une grande part des rémunération. Deuxièment, il n’existe pas en France de marge de redressement des salaires sans hausse de la valeur ajoutée, qu’elle vienne de gains de productivité ou d’une hausse du nombre d’heure travaillées. 90% de la valeur ajoutée nette est sans doute proche d’un maximum et demande probablement des montages particuliers pour être soutenable du côté de la rémunération du capital. Les Pays-Bas, l’Espagne et l’Italie échappent à cette contrainte : en Espagne comme en Italie, cela correspond à une masse salariale globale très contenue et indique sans doute des marges de manœuvre du côté des salaires, après des années particulièrement austères. Les Pays-Bas sont un cas à part. Les inégalités salariales y découlent avant tout du temps partiel, et le fort rendement du capital provient de la localisation des holding de tête de nombreux groupes dans ce pays. De cette façon, la valeur ajoutée y est gonflée par des prix de transfert, et donc la réduisant d’autant dans les pays voisins.\n",
    "\n",
    "L’imposition des entreprises (somme de l’impôt sur les sociétés et des impôts de production net des subventions) réduit encore la marge de manœuvre en France (quelques % de la valeur ajoutée nette restent). Dans quelques pays, les impôts nets des subventions sont fluctuants (en Allemagne, aux Pays-Bas ou en Belgique) ce qui traduit un changement de conditions fiscales accentuant la concurrence à l’intérieur du marché unique.\n",
    "\n",
    "Le <a href=\"#fig-rendement\" class=\"quarto-xref\">graphique 4</a> représente les profits, nets des impôts (nets des subventions), rapportés à la valeur des actifs productifs. C’est ce qui s’approche le plus d’un taux de rendement du capital productif en comptabilité nationale. Pour des raisons de comparabilité entre pays et de disponibilité des données, les actifs non produits – c’est-à-dire les terrains, les terres agricoles ou les ressources naturelles – ne sont pas prise en compte dans l’analyse.\n",
    "\n",
    "Les taux de rendement du capital productif sont assez disparates. En 2023, le taux de rendement est le plus élevé aux Pays-Bas et le plus faible en France. Il a presque continuement baissé sur la période de 1995 à 2023 en France et augmenté aux Pays-Bas. Il est plutôt stable, et à un niveau supérieur à 5% par an, en Allemagne. La période de 2000 à la crise financière de 2008 est caractérisée en Allemagne par une baisse de la part des salaires dans la valeur ajoutée, suite au réformes Hartz, conduisant à améliorer nettement le rendement du capital productif."
   ],
   "id": "72ef38fa-78c9-404f-b058-b38eae6ac889"
  },
  {
   "cell_type": "code",
   "execution_count": null,
   "metadata": {},
   "outputs": [
    {
     "output_type": "display_data",
     "metadata": {},
     "data": {}
    }
   ],
   "source": [
    "naaa <- source_data(\"va.r\")$naaa\n",
    "\n",
    "ggplot(naaa) +\n",
    "  aes(x=time, y=r, col = geo) +\n",
    "  geom_line(data = ~.x |> rename(GEO = geo) , aes(group=GEO), col = \"gray75\", linewidth = 0.25) +\n",
    "  # geom_ribbon(aes(ymin = tp, ymax = tpb, fill = geo, group = geo),\n",
    "  #             color = \"transparent\", show.legend = FALSE, alpha = 0.2) +\n",
    "  geom_line(show.legend=FALSE) +\n",
    "  facet_wrap(vars(geo), ncol = 3, labeller = lbl) +\n",
    "  scale_ofce_date() +\n",
    "  scale_y_continuous(labels = scales::label_percent(1)) +\n",
    "  scale_color_pays(format = \"eurostat\") +\n",
    "  theme_ofce() +\n",
    "  ofce_caption(\n",
    "    source = \"Eurostat, comptes nationaux annuels de branche (nama_10_a64 et nama_10_a64_e),\n",
    " comptes nationaux trimestriels (namq_10_a10) pour l'année 2024 (jusqu'au T3),\n",
    " comptes nationaux par secteurs institutionels (nasa_10_nf_tr) pour l'impôt sur les sociétés (D51), comptes d'actifs physiques par branche (\n",
    "nama_10_nfa_st), téléchargés le 15 janvier 2025,\n",
    " calcul de l'auteur, le code est disponible à github.com/xtimbeau/travail.\",\n",
    "    champ = \"Branches marchandes hors services immobiliers (L dans la NACE r2)\",\n",
    "    lecture = \"Le taux de rendement du capital est le ratio entre les profits (après impôts, net des suventions) et la valeur au coût de remplacement du stock de capital productif. Le capital productif considéré est hors actifs non produits (terrains, terres agricoles, ressources naturelles).\",\n",
    "    ofce = FALSE)"
   ],
   "id": "cell-fig-rendement"
  },
  {
   "cell_type": "markdown",
   "metadata": {},
   "source": [
    "## 4 Une nouvelle politique de l’offre ?\n",
    "\n",
    "Ce tableau paraît désespérant, d’autant depuis François Hollande et plus encore avec Emmanuel Macron, la France s’est engagée dans une politique de l’offre coûteuse et ambitieuse, accroissant les subventions et les allègements de cotisations sociales (dont le CICE et le CIR), prolongée par la baisse de l’impôt sur les sociétés et une réduction progressive des impôts de production. Or le <a href=\"#fig-rendement\" class=\"quarto-xref\">graphique 4</a> suggère que cette politique de l’offre n’a pas inversé l’effondrement du rendement du capital.\n",
    "\n",
    "Sous le vocable politique de l’offre, ce n’est pas que la fiscalité du capital productif qui a été réduite mais aussi celle du patrimoine. La suppression de l’Impôt sur la Fortune (ISF) ou le prélèvement forfaitaire unique (PFU) n’améliorent en rien le rendement du capital productif ni n’ouvre des possibilités pour accroître la part des salaries dans la valeur ajoutée. Ce ne sont pas des réponses pertinentes si on cherche à rétablir le taux de rendement du capital.\n",
    "\n",
    "Au-delà de cette fuite « interne » et de la dérive d’un discours axé sur le tissu productif en des actions favorisant les individus qui détiennent du capital, une fuite « externe » bloque également la situation productive en France. L’espace du marché unique s’est construit sans uniformisation des fiscalités des entreprises et conduit à des stratégies d’optimisation fiscale par la localisation de telle ou telle opération dans les différentes filiales nationales. Les prix de transfert, prix utilisés dans la facturation interne entre différentes entités d’un même groupe, sont ainsi un moyen de déplacer de la valeur ajoutée, et donc du profit, d’un pays à un autre, sans qu’une usine ne bouge.Les prix de transfert sont difficiles à contrôler dès qu’il s’agit de facturer une propriété intangible comme une marque ou un brevet. ([Tørsløv, Wier et Zucman, 2022](#ref-tørsløv2022)) quantifient cette fuite majeure qui participe à l’érosion du taux de profit en France ou en Allemagne au profit des Pays-Bas, entre autres. Tout indique que cette dynamique s’est accentuée.\n",
    "\n",
    "Un autre mécanisme de fuite fiscale, à la fois interne et externe, échappe également aux analyses : il s’agit de l’utilisation du foncier comme moyen de transformer la valeur ajoutée productive en plus-values immobilières. Patrick Drahi a ainsi beaucoup recouru à ces schémas afin d’échapper à la taxation des profits générés par des activités productives, en faisant payer des loyers et en transférant la valeur créée dans des sociétés foncières. Celles-ci ont des régimes fiscaux spécifiques autorisant la capitalisation des bénéficies non distribués et l’extinction des plus-values.\n",
    "\n",
    "Ces fuites internes et externes complexifient le diagnostic, et permettent de comprendre comment le système productif est mis sous pression et comment s’évapore la base fiscale. Il reste visiblement un travail important pour établir la preuve complète de ce qui n’est pour le moment qu’une hypothèse.\n",
    "\n",
    "Il y a cependant suffisamment d’éléments pour renouveler la politique de l’offre et bâtir une stratégie européenne robuste :\n",
    "\n",
    "1.  Accentuer la baisse de la fiscalité de la production tout en relevant celle du patrimoine. A cela s’ajoute la possibilité de la taxation des plus-values immobilières résidentielles comme professionnelles (immobilier de bureau, foncier pour les activités productives, infrastructures productives) qui sont un refuge qui affaiblit les bases fiscales et pousse à accroître la fiscalité des salaires ou de la production.\n",
    "2.  L’uniformisation de la fiscalité européenne doit permettre de ne plus motiver les choix de localisation des entreprises, de leurs sièges, de leurs propriétés intangibles dans un pays de l’Europe pour des raisons de d’optimisation fiscale. Cela alimente un jeu à somme nulle entre les Etats membres, une complexité organisationnelle en nourrissant l’activité des conseils pour aboutir à une base fiscale évaporée et le report de la charge fiscale sur ce qui bouge moins, empêchant la mise en place d’une politique de l’offre dirigée vers la production.\n",
    "3.  A cette simplification fiscale, une politique de compétitivité doit être mise en place pour protéger le tissu productif européen des pratiques anti-concurrentielles (barrières sur le marché américain, droits de douanes, subventions, prix de l’énergie). L’absence d’un organe de réglement des différents commerciaux fonctionnel empêche de faire jouer les traités d’échange et expose l’ensemble de l’Union Européenne à un jeu asymétrique.\n",
    "4.  A ces éléments sur l’imposition et les échanges, le soutien à la demande agrégée européenne est nécessaire et doit aboutir à faire baisser à la fois l’épargne et l’excédent courant de l’Union dans son ensemble. La France est en déficit de balance courante et donc n’est pas en position d’impulser cette orientation.\n",
    "5.  Afin de donner à une relance budgétaire le plus d’impact dans le temps, c’est l’investissement dans les infrastructures, particulièrement productives, qui doit être privilégié. Une relance par les salaires ne suffira pas à redonner au capital productif le rendement nécessaire, sauf dans certains pays de l’Union. Un candidat prioritaire sont les infrastructures de transport et de production de l’énergie. Comme noté dans le rapport Draghi (Draghi ([2024](#ref-draghi2024))) ou dans (Epaulard *et al.* ([2024](#ref-epaulard2024))) le prix de l’énergie est plus élevé en Europe qu’aux Etats-Unis ou en Chine. L’écart (du simple au triple), bien qu’il joue sur un intrant mineur diminue le rendement du capital et la compétitivité. Un investissement massif européen dans la production et le stockage d’énergie décarbonée – ou verte selon les exigences – financé par de la dette européenne commune, mais assurant un prix fortement réduit au moins pour les producteurs de biens et de services, est à même de répondre aux critéres d’un soutien à court terme et d’une stimulation à long terme.\n",
    "\n",
    "Askenazy P., Behaghel L., Laouenan M., Meurs D. (2019). « [Quarante ans d’analyse du travail et de l’emploi : points de vue de quatre économistes](https://doi.org/10.4000/travailemploi.9068) », *Travail et emploi*, n° 158, p. 69‑94.\n",
    "\n",
    "Askenazy P., Cette G., Sylvain A. (2011). « [Le partage de la valeur ajoutée](https://doi.org/10.3917/dec.asken.2011.01) », *Repères*.\n",
    "\n",
    "Cotis J.-P. (2009). « [Partage de la valeur ajoutée, partage des profits et écarts de rémunérations en France](https://www.vie-publique.fr/rapport/30455-partage-valeur-ajoutee-partage-profits-et-ecarts-de-remuneration) », Présidence de la République Française.\n",
    "\n",
    "Draghi M. (2024). « [The future of European competitiveness – A competitiveness strategy for Europe](https://commission.europa.eu/topics/strengthening-european-competitiveness/eu-competitiveness-looking-ahead_en#paragraph_47059) », Commission Européenne/European Commission.\n",
    "\n",
    "Epaulard A., Malliet P., Saumtally A., Timbeau X. (2024). « [La transition écologique en Europe : tenir le cap](https://www.ofce.sciences-po.fr/pdf/pbrief/2024/OFCEpbrief131.pdf) », *Policy Brief de l’OFCE*, n° 131.\n",
    "\n",
    "Lima L., Tuchszirer C. (2022). « [Politiques sociales : l’état des savoirs](https://doi.org/10.3917/dec.girau.2022.01.0045) », dans La Découverte, p. 45‑58.\n",
    "\n",
    "Tørsløv T., Wier L., Zucman G. (2022). « [The Missing Profits of Nations](https://doi.org/10.1093/restud/rdac049) », *The Review of Economic Studies*, *90*, n° 3, p. 1499‑1534."
   ],
   "id": "c8fccce0-4d98-4fa3-ab29-ba2619e51025"
  }
 ],
 "nbformat": 4,
 "nbformat_minor": 5,
 "metadata": {}
}
