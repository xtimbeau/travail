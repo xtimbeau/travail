{
 "cells": [
  {
   "cell_type": "markdown",
   "metadata": {},
   "source": [
    "# Quelles marges de manoeuvres macroéconomiques pour revaloriser le\n",
    "\n",
    "travail ?\n",
    "\n",
    "Xavier Timbeau [![](data:image/png;base64,iVBORw0KGgoAAAANSUhEUgAAABAAAAAQCAYAAAAf8/9hAAAAGXRFWHRTb2Z0d2FyZQBBZG9iZSBJbWFnZVJlYWR5ccllPAAAA2ZpVFh0WE1MOmNvbS5hZG9iZS54bXAAAAAAADw/eHBhY2tldCBiZWdpbj0i77u/IiBpZD0iVzVNME1wQ2VoaUh6cmVTek5UY3prYzlkIj8+IDx4OnhtcG1ldGEgeG1sbnM6eD0iYWRvYmU6bnM6bWV0YS8iIHg6eG1wdGs9IkFkb2JlIFhNUCBDb3JlIDUuMC1jMDYwIDYxLjEzNDc3NywgMjAxMC8wMi8xMi0xNzozMjowMCAgICAgICAgIj4gPHJkZjpSREYgeG1sbnM6cmRmPSJodHRwOi8vd3d3LnczLm9yZy8xOTk5LzAyLzIyLXJkZi1zeW50YXgtbnMjIj4gPHJkZjpEZXNjcmlwdGlvbiByZGY6YWJvdXQ9IiIgeG1sbnM6eG1wTU09Imh0dHA6Ly9ucy5hZG9iZS5jb20veGFwLzEuMC9tbS8iIHhtbG5zOnN0UmVmPSJodHRwOi8vbnMuYWRvYmUuY29tL3hhcC8xLjAvc1R5cGUvUmVzb3VyY2VSZWYjIiB4bWxuczp4bXA9Imh0dHA6Ly9ucy5hZG9iZS5jb20veGFwLzEuMC8iIHhtcE1NOk9yaWdpbmFsRG9jdW1lbnRJRD0ieG1wLmRpZDo1N0NEMjA4MDI1MjA2ODExOTk0QzkzNTEzRjZEQTg1NyIgeG1wTU06RG9jdW1lbnRJRD0ieG1wLmRpZDozM0NDOEJGNEZGNTcxMUUxODdBOEVCODg2RjdCQ0QwOSIgeG1wTU06SW5zdGFuY2VJRD0ieG1wLmlpZDozM0NDOEJGM0ZGNTcxMUUxODdBOEVCODg2RjdCQ0QwOSIgeG1wOkNyZWF0b3JUb29sPSJBZG9iZSBQaG90b3Nob3AgQ1M1IE1hY2ludG9zaCI+IDx4bXBNTTpEZXJpdmVkRnJvbSBzdFJlZjppbnN0YW5jZUlEPSJ4bXAuaWlkOkZDN0YxMTc0MDcyMDY4MTE5NUZFRDc5MUM2MUUwNEREIiBzdFJlZjpkb2N1bWVudElEPSJ4bXAuZGlkOjU3Q0QyMDgwMjUyMDY4MTE5OTRDOTM1MTNGNkRBODU3Ii8+IDwvcmRmOkRlc2NyaXB0aW9uPiA8L3JkZjpSREY+IDwveDp4bXBtZXRhPiA8P3hwYWNrZXQgZW5kPSJyIj8+84NovQAAAR1JREFUeNpiZEADy85ZJgCpeCB2QJM6AMQLo4yOL0AWZETSqACk1gOxAQN+cAGIA4EGPQBxmJA0nwdpjjQ8xqArmczw5tMHXAaALDgP1QMxAGqzAAPxQACqh4ER6uf5MBlkm0X4EGayMfMw/Pr7Bd2gRBZogMFBrv01hisv5jLsv9nLAPIOMnjy8RDDyYctyAbFM2EJbRQw+aAWw/LzVgx7b+cwCHKqMhjJFCBLOzAR6+lXX84xnHjYyqAo5IUizkRCwIENQQckGSDGY4TVgAPEaraQr2a4/24bSuoExcJCfAEJihXkWDj3ZAKy9EJGaEo8T0QSxkjSwORsCAuDQCD+QILmD1A9kECEZgxDaEZhICIzGcIyEyOl2RkgwAAhkmC+eAm0TAAAAABJRU5ErkJggg==)](https://orcid.org/0000-0002-6198-5953) ([OFCE, Sciences Po Paris](http://www.ofce.fr))\n",
    "\n",
    "887 mots."
   ],
   "id": "04142803-efd8-4c9d-8176-7a615a9ab0af"
  },
  {
   "cell_type": "code",
   "execution_count": null,
   "metadata": {},
   "outputs": [
    {
     "output_type": "stream",
     "name": "stderr",
     "text": [
      "── Attaching core tidyverse packages ──────────────────────── tidyverse 2.0.0 ──\n",
      "✔ dplyr     1.1.4     ✔ readr     2.1.5\n",
      "✔ forcats   1.0.0     ✔ stringr   1.5.1\n",
      "✔ ggplot2   3.5.1     ✔ tibble    3.2.1\n",
      "✔ lubridate 1.9.4     ✔ tidyr     1.3.1\n",
      "✔ purrr     1.0.2     \n",
      "── Conflicts ────────────────────────────────────────── tidyverse_conflicts() ──\n",
      "✖ dplyr::filter()   masks stats::filter()\n",
      "✖ dplyr::lag()      masks stats::lag()\n",
      "✖ readr::tokenize() masks koRpus::tokenize()\n",
      "ℹ Use the conflicted package (<http://conflicted.r-lib.org/>) to force all conflicts to become errors\n",
      "\n",
      "Attaching package: 'scales'\n",
      "\n",
      "\n",
      "The following object is masked from 'package:purrr':\n",
      "\n",
      "    discard\n",
      "\n",
      "\n",
      "The following object is masked from 'package:readr':\n",
      "\n",
      "    col_factor\n",
      "\n",
      "\n",
      "qs 0.27.2. Announcement: https://github.com/qsbase/qs/issues/103"
     ]
    }
   ],
   "source": [
    "ofce::init_qmd()"
   ],
   "id": "c0a62f45-f20d-4ed7-aba0-1e9dacda3330"
  },
  {
   "cell_type": "markdown",
   "metadata": {},
   "source": [
    "## 1 Revaloriser le travail\n",
    "\n",
    "L’ensemble du numéro d’économie politique consacré au travail pointe dans une direction sans équivoque. Le travail est au cœur du pacte social ; il est une nécessité économique pour une immense majorité ; il est la condition pour l’émancipation des individus. Le travail réalise également les promesses floues du mérite et cristallise en conséquence les perceptions des inégalités. Il condense également les attentes et les perceptions de la situation économique, tant le travail et la position que chacun occupe dans la société est le le modèle dominant de la rémunération. A part quelques rares privilégiés, dont les ultra riches sont peut être la manifestation la plus visible, chacun vite de son travail, présent ou passé et est donc renvoyé à une condition commune et partagée. Personne ou presque ne vit des revenus de son épargne, personne ou presque ne peut imaginer une vie sans travail.\n",
    "\n",
    "La stagnation des revenus des salariés depuis la crise de 2008 est donc un moment essentiel dans notre histoire économique. Nul besoin de faire appel à la période des 30 glorieuses, avec une nostalgie souvent exagérée, pour évoquer des périodes de croissance du pouvoir d’achat des salariés (graphique). La crise de 2008, la crise des dettes souveraines, les restrictions budgétaires pour absorber les déficits publics mais aussi le décrochage de la croissance dans l’Union Européenne par rapport aux Etats-Unis expliquent en partie cette stagnation. Après une accalmie entre 2017 et 2020, la crise sanitaire puis la seconde invasion de l’Ukraine par la Russie, la crise énergétique qui s’en est suivie ont à la fois pesé sur l’activité (la perte d’activité en Europe liée à la guerre en Ukraine est de l’ordre de 3 points de PIB) et sur les prix (les prix à la consommation ont augmenté de plus 15% entre 2020 et 2024). La combinaison à la fois d’une activité économique plutôt stagnante, en tout cas en décrochage avec d’autres économies développées, et d’épisodes conjoncturels brutaux se réduit très concrètement dans les revenus tirés du travail.\n",
    "\n",
    "La question que nous allons essayer de traiter dans cette contribution est celle des marges de manœuvre que la macroéconomie, en France comme en Europe, laisse pour répondre à cette crise du travail et de sa rémunération. Pour approcher cette question sous l’angle macroéconomique, la méthode est de chercher dans les évolutions récentes des marchés du travail, expression consacrée pour désigner la marchandisation du travail, ce qui pourrait constituer une anomalie qu’une politique volontariste pourrait vouloir corriger. Il s’agit d’un écho lointain aux analyses presentées dans ce numéro qui se fondent sur des observations plus directes des réalités du monde du travail. Mais les statistiques peuvent ici servir à relativiser et fournir un point de vue riche, d’autant que nous essayons de comparer la France à ses principaux voisins, qu’ils soient d’Europe du Sud ou plutôt d’Europe du Nord.\n",
    "\n",
    "Pour répondre à la questions des marges macroéconomiques, nous analyserons, à partir des données de comptabilité nationale, le partage de la valeur ajoutée. Un rapport de force moins favorable aux salariés est sans doute à attendre des efforts de libéralisation et de flexibilisation des marchés du travail et aurait pu se traduire dans la mesure du partage. Nous verrons que la mise à jour des indicateurs de partage de la valeur ajoutée n’offrent pas beaucoup d’espoir quant à un rééquilibrage en faveur du travail. La discussion des notions de la comptabilité nationale et des systèmes fiscaux nationaux peuvent laisser entrevoir cependant ce qui pourrait être une nouvelle politique de l’offre.\n",
    "\n",
    "## 2 Le nouveau monde\n",
    "\n",
    "La flexibilisation des marchés du travail est à l’ordre du jour depuis les années 1980. Elle a été brutale dans certains pays, plus progressive dans d’autres, en particulier en France. Néanmoins, et combinée à la perte d’influence des syndicats et la diminution du rôle des partenaires sociaux, lorsqu’on se retourne sur les 50 dernières années, on ne peut manquer d’être frappé par l’ampleur des changements. Le <a href=\"#tbl-chomage\" class=\"quarto-xref\">tableau 1</a> donne quelques indicateurs choisis pour 6 pays européens pour la période 1995-2023. Quelques faits résument les évolutions :\n",
    "\n",
    "-   le chômage a baissé dans les 6 pays, en moyenne sur presque 30 ans, bien qu’en France la baisse soit plutôt faible. Dans la plupart des pays européens, y compris la France, le chômage de masse des années 1980 a été partiellement ou complètement résorbé. Le chômage des jeunes, mesuré ici par rapport à la population de même âge et non la population active, a baissé dans 5 pays, l’exception étant la France. En France et aux Pays-Bas, la part des jeunes au chômage est supérieure à la part du reste de la population en âge de travailler.\n",
    "\n",
    "-   La rotation sur le marché du travail, ici quantifiée approximativement par la part des salariés en emploi depuis moins d’un an dans le poste qu’ils occupent, s’est plutôt accrue. Elle est élevée en France, bien que moins qu’au Pays-Bas ou en Espagne.\n",
    "\n",
    "-   Sans doute en conséquence d’une pression à la baisse sur les salaires et d’une moindre protection des salariés, la part des individus occupant un deuxième emploi a augmenté"
   ],
   "id": "718a3483-7371-4e5e-81ff-13d32142c4e1"
  },
  {
   "cell_type": "code",
   "execution_count": null,
   "metadata": {},
   "outputs": [],
   "source": [
    "sum <- source_data(\"precarite.r\")$sum  |> \n",
    "  mutate(c = case_when(\n",
    "     op == \"last\" ~ str_c(round(v,1), \"%\"),\n",
    "     op == \"min\" ~ str_c(round(v,1), \"%<br>(\", year(date), \")\"),\n",
    "     op == \"max\" ~ str_c(round(v,1), \"%<br> (\", year(date), \")\"),\n",
    "     op == \"dv\" ~ str_c(round(v,2), \"%\") ) ) |>\n",
    "  pivot_wider(id_cols = c(age, what, op), names_from = geo, values_from = c) |> \n",
    "  mutate(\n",
    "    label = case_when(\n",
    "      what == \"3mcontract\" ~ \"Part de la population en âge de travailler en contrat de moins de 3 mois\",\n",
    "      what == \"chômage\" & age == \"Y1524\" ~ \"Chômeurs de 15 à 24 ans en % de la population des jeunes\",\n",
    "      what == \"chômage\" & age == \"Y2064\" ~ \"Chômeurs en % de la population en âge de travailler\",\n",
    "      what == \"second job\" ~ \"Part de la population en âge de travailler occupant deux emplois\",\n",
    "      what == \"newjob\" ~ \"Part de la population en âge de travailler en poste depuis moins d'un an (rotation)\"),\n",
    "    op = case_match(op,\n",
    "                    \"last\" ~ \"En 2023\",\n",
    "                    \"min\" ~ \"Le plus bas entre 1995 et 2023\",\n",
    "                    \"max\" ~ \"Le plus haut entre 1995 et 2023\",\n",
    "                    \"dv\" ~ \"Evolution moyenne annuelle entre 1995 et 2023\")) |> \n",
    "  select(-age, -what)\n",
    "\n",
    "sum |> \n",
    "  group_by(label) |> \n",
    "  gt() |> \n",
    "  cols_label_with(fn = lbl) |> \n",
    "  cols_align(\"center\", -c(label, op)) |> \n",
    "  fmt_markdown() |> \n",
    "  tab_style(style = cell_text(weight = \"bold\"),\n",
    "            locations = cells_body(columns = FR)) |> \n",
    "  cols_label(op = \"\", label = \"\")"
   ],
   "id": "e9e476d9-836e-45de-b6af-9427ce12cc08"
  },
  {
   "cell_type": "code",
   "execution_count": null,
   "metadata": {},
   "outputs": [],
   "source": [
    "earn <- source_data(\"earn.r\")\n",
    "\n",
    "earn |>\n",
    "  select(label, BE, DE,  IT, NL, FR,  ES) |>\n",
    "  gt() |>\n",
    "  fmt_percent(columns = c(BE, DE, ES, FR, NL, IT), rows = !(label |> str_detect(\"référence\")),\n",
    "              decimals = 0, dec_mark = \",\", sep_mark = \" \") |>\n",
    "  fmt_number(columns = c(BE, DE, ES, FR, NL, IT), rows = label |> str_detect(\"référence\"),\n",
    "             decimals = 0, dec_mark = \",\", sep_mark = \" \", pattern = \"{x}€\") |>\n",
    "  opt_table_lines(\"none\") |>\n",
    "  tab_style(cell_borders(sides = \"bottom\", color = \"grey\", weight = px(1)),\n",
    "            locations = cells_body(rows = c(1, 3, 5, 7, 9) ) ) |>\n",
    "  tab_style(cell_borders(sides = \"bottom\", color = \"black\", weight = px(1)),\n",
    "            locations = cells_body(rows = c(11) ) ) |>\n",
    "  tab_style(cell_borders(sides = c(\"top\", \"bottom\"), color = \"black\", weight = px(1)),\n",
    "            locations = cells_column_labels( ) ) |>\n",
    "  cols_label(label = \"\") |>\n",
    "  cols_label_with(columns = -label, ~countrycode::countrycode(.x, \"eurostat\", \"country.name.fr\")) |> \n",
    "  sub_missing() |>\n",
    "  tab_footnote(\"Salaire annuel brut, temps partiel et complet, relatif au salaire annuel brut médian tous ages, toutes qualifications, femmes et hommes.\",\n",
    "                cells_body(columns = label, rows = !str_detect(label, \"référence\"))) |>\n",
    "  tab_source_note(md(\"*Lecture* : Le salaire médian brut (i.e. y compris les cotisations sociales à la charge du salarié),\n",
    "  des salariés à temps partiel comme à temps plein, incluant le 13^e^ mois\n",
    "  et autres primes ou bonus est en France de 26 768 euros (soit un salarie mensuel moyen de 2 231 euros).\n",
    "  La rémunération moyenne d'un homme (à temps plein ou partiel) est de 119% le salaire médian contre 79% pour une femme (soit un ratio homme femme de 1,51)\n",
    "  en Allemagne, dont une partie s'explique par une prévalence du temps partiel plus forte chez les femmes allemandes (69%) que chez les hommes (24%). Le ratio de rémunération entre un travailleur non manuel (isco08 OC 1 à 5)\n",
    "  et un travailleur manuel peu qualifié (OC 9) est de 3,7 (110%/30%) aux Pays Bas.\n",
    "  La rémunération des moins de 30 ans est en moyenne inférieure de 28% au salariue médian en Italie.  \n",
    "  <br>\n",
    "  *Source* : Eurostat, Structure of earnings survey - annual earnings (doi.org/10.2908/EARN_SES_ANNUAL), version du 19 décembre 2024, téléchargé le 15 janvier 2025, année 2022, calculs de l'auteur\"))"
   ],
   "id": "65ca1ab4-3cd5-4946-9f46-a1aa6fe3a0c1"
  },
  {
   "cell_type": "markdown",
   "metadata": {},
   "source": [
    "## 3 Rémunération du travail et du capital"
   ],
   "id": "4459d339-60e9-48a1-9825-31695a15447f"
  },
  {
   "cell_type": "code",
   "execution_count": null,
   "metadata": {},
   "outputs": [
    {
     "output_type": "display_data",
     "metadata": {},
     "data": {}
    }
   ],
   "source": [
    "naa <- source_data(\"va.r\")$naa\n",
    "\n",
    "ggplot(naa) +\n",
    "  aes(x=time, y=psal, col = geo) +\n",
    "  geom_line(data = ~.x |> rename(GEO = geo) , aes(group=GEO), col = \"gray75\", linewidth = 0.25) +\n",
    "  geom_ribbon(aes(ymin = psal2, ymax = psal, fill = geo, group = geo),\n",
    "              color = \"transparent\", show.legend = FALSE, alpha = 0.2) +\n",
    "  geom_line(show.legend=FALSE) +\n",
    "  facet_wrap(vars(geo), ncol = 2, labeller = lbl) +\n",
    "  scale_ofce_date() +\n",
    "  scale_y_continuous(labels = scales::label_percent(1), limits = c(NA, 1)) +\n",
    "  scale_color_pays(format = \"eurostat\") +\n",
    "  theme_ofce() +\n",
    "  ofce_caption(\n",
    "    wrap = 100,\n",
    "    source = \"Eurostat, comptes nationaux annuels de branche (nama_10_a64 et nama_10_a64_e),\n",
    " comptes nationaux trimestriels (namq_10_a10) pour l'année 2024 (jusqu'au T3),\n",
    " comptes nationaux par secteurs institutionels (nasa_10_nf_tr) pour l'impôt sur les sociétés (D51), téléchargés le 15 janvier 2025,\n",
    " calcul de l'auteur, le code est disponible à github.com/xtimbeau/travail\",\n",
    "    champ = \"Branches marchandes hors services immobiliers (L dans la NACE r2)\",\n",
    "    lecture = \"La part des salaires (corrigé de la non salarisation)\n",
    " dans la valeur ajoutée nette atteint 90% en France en 2023 ((D1*(1+ns/s)/(B1G-P51C)).\n",
    " La partie colorée correspond aux salaires différés correspondant aux cotisations sociales à la charge des employeurs (D11/(B1G-P51C)).\n",
    " La rémunération inclue les cotisations sociales à la charge des employeurs.\n",
    " La non salarisation est corrigée en affectant par branche (22 branches) un salaire aux non salariés égal au salaire moyen des salariés de la branche.\n",
    " La valeur ajoutée nette (valeur ajoutée brute moins la consommation de capital fixe B1G-P51C) est préférée\n",
    " à la valeur ajoutée brute pour pouvoir comparer des pays aux structures productives et aux ratios capital/travail différents.\n",
    " La part des salaires dans la valeur ajoutée brute en France (D1/B1G) en 2023 est de 73,5%.\",\n",
    "    note = \"L'année 2024 est estimée à partir des comptes trimestriels en supposant que la croissance la masse salaire corrigée de la non salarisation\n",
    " et de la valeur ajoutée nette sont égales à la celle de la masse salariale et de la valeur ajoutée brute.\",\n",
    "    ofce = FALSE)"
   ],
   "id": "cell-fig-sal"
  },
  {
   "cell_type": "code",
   "execution_count": null,
   "metadata": {},
   "outputs": [
    {
     "output_type": "display_data",
     "metadata": {},
     "data": {}
    }
   ],
   "source": [
    "ggplot(naa) +\n",
    "  aes(x=time, y=tp, col = geo) +\n",
    "  geom_line(data = ~.x |> rename(GEO = geo) , aes(group=GEO), col = \"gray75\", linewidth = 0.25) +\n",
    "  geom_ribbon(aes(ymin = tp, ymax = tpb, fill = geo, group = geo),\n",
    "              color = \"transparent\", show.legend = FALSE, alpha = 0.2) +\n",
    "  geom_line(show.legend=FALSE) +\n",
    "  facet_wrap(vars(geo), ncol = 2, labeller = lbl) +\n",
    "  scale_ofce_date() +\n",
    "  scale_y_continuous(labels = scales::label_percent(1)) +\n",
    "  scale_color_pays(format = \"eurostat\") +\n",
    "  theme_ofce() +\n",
    "  ofce_caption(\n",
    "    source = \"Eurostat, comptes nationaux annuels de branche (nama_10_a64 et nama_10_a64_e),\n",
    " comptes nationaux trimestriels (namq_10_a10) pour l'année 2024 (jusqu'au T3),\n",
    " comptes nationaux par secteurs institutionels (nasa_10_nf_tr) pour l'impôt sur les sociétés (D51), version du 15 janvier 2025,  téléchargés le 15 janvier 2025,\n",
    " calcul de l'auteur, le code est disponible à github.com/xtimbeau/travail.\",\n",
    "    champ = \"Branches marchandes hors services immobiliers (L dans la NACE r2)\",\n",
    "    lecture = \"La part des profits est la valeur ajoutée nette moins la rémunération des salariés corrigée\n",
    " de la non salarisation moins les impôts de production nets des subventions à la production moins l'impôt sur les sociétés rapporté à la valeur ajoutée nette.\n",
    " C'est donc la part de la production qui reste après la rémunération des facteurs de production (consommations intermédiaires,\n",
    " salaires et dépréciation du capital) et après les impôts et taxes nets des subventions. Cette part sert la rémunération des actionnaires et des apporteurs de capitaux comme les banques.\n",
    " En 2023, cette part est de 3% en France et de 12,9% en Allemagne. La partie colorée indique la part des impôts nets des subventions.\",\n",
    "    ofce = FALSE)"
   ],
   "id": "cell-fig-profit"
  },
  {
   "cell_type": "code",
   "execution_count": null,
   "metadata": {},
   "outputs": [
    {
     "output_type": "display_data",
     "metadata": {},
     "data": {}
    }
   ],
   "source": [
    "naaa <- source_data(\"va.r\")$naaa\n",
    "\n",
    "ggplot(naaa) +\n",
    "  aes(x=time, y=r, col = geo) +\n",
    "  geom_line(data = ~.x |> rename(GEO = geo) , aes(group=GEO), col = \"gray75\", linewidth = 0.25) +\n",
    "  # geom_ribbon(aes(ymin = tp, ymax = tpb, fill = geo, group = geo),\n",
    "  #             color = \"transparent\", show.legend = FALSE, alpha = 0.2) +\n",
    "  geom_line(show.legend=FALSE) +\n",
    "  facet_wrap(vars(geo), ncol = 2, labeller = lbl) +\n",
    "  scale_ofce_date() +\n",
    "  scale_y_continuous(labels = scales::label_percent(1)) +\n",
    "  scale_color_pays(format = \"eurostat\") +\n",
    "  theme_ofce() +\n",
    "  ofce_caption(\n",
    "    source = \"Eurostat, comptes nationaux annuels de branche (nama_10_a64 et nama_10_a64_e),\n",
    " comptes nationaux trimestriels (namq_10_a10) pour l'année 2024 (jusqu'au T3),\n",
    " comptes nationaux par secteurs institutionels (nasa_10_nf_tr) pour l'impôt sur les sociétés (D51), comptes d'actifs physiques par branche (\n",
    "nama_10_nfa_st), téléchargés le 15 janvier 2025,\n",
    " calcul de l'auteur, le code est disponible à github.com/xtimbeau/travail.\",\n",
    "    champ = \"Branches marchandes hors services immobiliers (L dans la NACE r2)\",\n",
    "    lecture = \"Le taux de rendement du capital est le ratio entre les profits (après impôts, net des suventions) et la valeur au coût de remplacement du stock de capital productif. Le capital productif considéré est hors actifs non produits (terrains, terres agricoles, ressources naturelles). Il exclut le capital immobilier parce que la branche services immobiliers n'est pas dans le champ. Le taux de rendement du capital est de 1,5% en France et de 5,6% en Allemagne.\",\n",
    "    ofce = FALSE)"
   ],
   "id": "cell-fig-rendement"
  },
  {
   "cell_type": "markdown",
   "metadata": {},
   "source": [
    "## 4 Une nouvelle poltiique de l’offre ?"
   ],
   "id": "7d3f63be-d66a-400d-8da8-6a4f76a57185"
  }
 ],
 "nbformat": 4,
 "nbformat_minor": 5,
 "metadata": {}
}
